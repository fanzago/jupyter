{
 "cells": [
  {
   "cell_type": "raw",
   "id": "d24bc373-b2af-4f7c-8ebe-463358c6d4fa",
   "metadata": {},
   "source": [
    "## eseguiamo il codice python da file dentro il notebook ##"
   ]
  },
  {
   "cell_type": "code",
   "execution_count": 1,
   "id": "2db627cc-fedb-43f3-b973-5f4851d68270",
   "metadata": {},
   "outputs": [
    {
     "name": "stdout",
     "output_type": "stream",
     "text": [
      "grafico creato\n"
     ]
    },
    {
     "data": {
      "image/png": "[encoded data removed]",
      "text/plain": [
       "<Figure size 432x288 with 1 Axes>"
      ]
     },
     "metadata": {
      "needs_background": "light"
     },
     "output_type": "display_data"
    }
   ],
   "source": [
    "%run grafico.py"
   ]
  },
  {
   "cell_type": "raw",
   "id": "897fe8da-5131-47f0-86e0-89b6409b3aa3",
   "metadata": {},
   "source": [
    "## carichiamo in memoria il file con il codice e poi lo eseguiamo (si esegue due volte la stessa cella)"
   ]
  },
  {
   "cell_type": "code",
   "execution_count": 2,
   "id": "6fc2cbda-84b8-49da-8ea6-46a8c690b8a1",
   "metadata": {},
   "outputs": [
    {
     "name": "stdout",
     "output_type": "stream",
     "text": [
      "grafico creato\n"
     ]
    },
    {
     "data": {
      "image/png": "[encoded data removed]",
      "text/plain": [
       "<Figure size 432x288 with 1 Axes>"
      ]
     },
     "metadata": {
      "needs_background": "light"
     },
     "output_type": "display_data"
    }
   ],
   "source": [
    "# %load grafico.py\n",
    "import matplotlib.pyplot as plt\n",
    "\n",
    "x=[1,2,3]\n",
    "y=[10,20,30]\n",
    "\n",
    "plt.bar(x,y)\n",
    "plt.title(\"plot\")\n",
    "plt.xticks(x,x)\n",
    "plt.savefig(\"grafico.png\")\n",
    "\n",
    "print(\"grafico creato\")\n"
   ]
  },
  {
   "cell_type": "raw",
   "id": "e1c56270-5917-4da3-afe5-fb13a674433d",
   "metadata": {},
   "source": [
    "## informazioni sulle variabili"
   ]
  },
  {
   "cell_type": "code",
   "execution_count": 3,
   "id": "6cf0b639-7b79-4f53-93ef-a09a4523c799",
   "metadata": {},
   "outputs": [
    {
     "data": {
      "text/plain": [
       "\u001b[0;31mType:\u001b[0m        module\n",
       "\u001b[0;31mString form:\u001b[0m <module 'matplotlib.pyplot' from '/usr/local/lib/python3.8/dist-packages/matplotlib/pyplot.py'>\n",
       "\u001b[0;31mFile:\u001b[0m        /usr/local/lib/python3.8/dist-packages/matplotlib/pyplot.py\n",
       "\u001b[0;31mDocstring:\u001b[0m  \n",
       "`matplotlib.pyplot` is a state-based interface to matplotlib. It provides\n",
       "an implicit,  MATLAB-like, way of plotting.  It also opens figures on your\n",
       "screen, and acts as the figure GUI manager.\n",
       "\n",
       "pyplot is mainly intended for interactive plots and simple cases of\n",
       "programmatic plot generation::\n",
       "\n",
       "    import numpy as np\n",
       "    import matplotlib.pyplot as plt\n",
       "\n",
       "    x = np.arange(0, 5, 0.1)\n",
       "    y = np.sin(x)\n",
       "    plt.plot(x, y)\n",
       "\n",
       "The explicit (object-oriented) API is recommended for complex plots, though\n",
       "pyplot is still usually used to create the figure and often the axes in the\n",
       "figure. See `.pyplot.figure`, `.pyplot.subplots`, and\n",
       "`.pyplot.subplot_mosaic` to create figures, and\n",
       ":doc:`Axes API <../axes_api>` for the plotting methods on an axes::\n",
       "\n",
       "    import numpy as np\n",
       "    import matplotlib.pyplot as plt\n",
       "\n",
       "    x = np.arange(0, 5, 0.1)\n",
       "    y = np.sin(x)\n",
       "    fig, ax = plt.subplots()\n",
       "    ax.plot(x, y)\n"
      ]
     },
     "metadata": {},
     "output_type": "display_data"
    }
   ],
   "source": [
    "%pinfo plt"
   ]
  },
  {
   "cell_type": "code",
   "execution_count": 4,
   "id": "2417779b-7690-447c-8e70-60bb2c4ef5f7",
   "metadata": {},
   "outputs": [
    {
     "data": {
      "text/plain": [
       "\u001b[0;31mType:\u001b[0m        list\n",
       "\u001b[0;31mString form:\u001b[0m [1, 2, 3]\n",
       "\u001b[0;31mLength:\u001b[0m      3\n",
       "\u001b[0;31mDocstring:\u001b[0m  \n",
       "Built-in mutable sequence.\n",
       "\n",
       "If no argument is given, the constructor creates a new empty list.\n",
       "The argument must be an iterable if specified.\n"
      ]
     },
     "metadata": {},
     "output_type": "display_data"
    }
   ],
   "source": [
    "%pinfo x"
   ]
  },
  {
   "cell_type": "raw",
   "id": "1354d419-ec5b-48f4-9bd3-b19196a0268c",
   "metadata": {},
   "source": [
    "## vediamo le variabili di ambiente"
   ]
  },
  {
   "cell_type": "code",
   "execution_count": 5,
   "id": "a170d91f-5a7d-4594-9e74-c0b834efc572",
   "metadata": {},
   "outputs": [
    {
     "data": {
      "text/plain": [
       "{'PATH': '/usr/local/sbin:/usr/local/bin:/usr/sbin:/usr/bin:/sbin:/bin',\n",
       " 'HOSTNAME': '68d3e807524c',\n",
       " 'JUPYTERHUB_API_TOKEN': '<hidden>',\n",
       " 'JPY_API_TOKEN': '<hidden>',\n",
       " 'JUPYTERHUB_ADMIN_ACCESS': '1',\n",
       " 'JUPYTERHUB_CLIENT_ID': 'jupyterhub-user-fanzago',\n",
       " 'JUPYTERHUB_HOST': '',\n",
       " 'JUPYTERHUB_OAUTH_CALLBACK_URL': '/user/fanzago/oauth_callback',\n",
       " 'JUPYTERHUB_USER': 'fanzago',\n",
       " 'JUPYTERHUB_SERVER_NAME': '',\n",
       " 'JUPYTERHUB_API_URL': 'http://jupyterhub:8088/hub/api',\n",
       " 'JUPYTERHUB_ACTIVITY_URL': 'http://jupyterhub:8088/hub/api/users/fanzago/activity',\n",
       " 'JUPYTERHUB_BASE_URL': '/',\n",
       " 'JUPYTERHUB_SERVICE_PREFIX': '/user/fanzago/',\n",
       " 'MEM_LIMIT': '2147483648',\n",
       " 'IAM_SERVER': 'https://iam.cloud.infn.it',\n",
       " 'IAM_CLIENT_ID': 'c16f2207-4c3c-416f-b6f7-f7df45fd3c85',\n",
       " 'IAM_CLIENT_SECRET': '<hidden>',\n",
       " 'ACCESS_TOKEN': '<hidden>',\n",
       " 'REFRESH_TOKEN': '<hidden>',\n",
       " 'USERNAME': 'fanzago',\n",
       " 'JUPYTERHUB_ACTIVITY_INTERVAL': '15',\n",
       " 'GROUPS': 'training',\n",
       " 'JUPYTER_IMAGE_SPEC': 'dodasts/snj-base-lab-persistence:v1.0.3-snj',\n",
       " 'TINI_VERSION': 'v0.19.0',\n",
       " 'HOME': '/root',\n",
       " 'LC_CTYPE': 'C.UTF-8',\n",
       " 'GIT_PYTHON_REFRESH': 'quiet',\n",
       " 'PYDEVD_USE_FRAME_EVAL': 'NO',\n",
       " 'JPY_PARENT_PID': '8',\n",
       " 'TERM': 'xterm-color',\n",
       " 'CLICOLOR': '1',\n",
       " 'PAGER': 'cat',\n",
       " 'GIT_PAGER': 'cat',\n",
       " 'MPLBACKEND': 'module://matplotlib_inline.backend_inline'}"
      ]
     },
     "execution_count": 5,
     "metadata": {},
     "output_type": "execute_result"
    }
   ],
   "source": [
    "%env"
   ]
  },
  {
   "cell_type": "code",
   "execution_count": null,
   "id": "fa17271d-a946-469b-b67e-cf0a0eff1c5f",
   "metadata": {},
   "outputs": [],
   "source": []
  }
 ],
 "metadata": {
  "kernelspec": {
   "display_name": "Python 3 (ipykernel)",
   "language": "python",
   "name": "python3"
  },
  "language_info": {
   "codemirror_mode": {
    "name": "ipython",
    "version": 3
   },
   "file_extension": ".py",
   "mimetype": "text/x-python",
   "name": "python",
   "nbconvert_exporter": "python",
   "pygments_lexer": "ipython3",
   "version": "3.8.10"
  }
 },
 "nbformat": 4,
 "nbformat_minor": 5
}
