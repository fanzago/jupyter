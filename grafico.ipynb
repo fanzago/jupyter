{
 "cells": [
  {
   "cell_type": "code",
   "execution_count": 40,
   "id": "83870bea-3710-4748-987a-94ac824b3a51",
   "metadata": {},
   "outputs": [
    {
     "name": "stdout",
     "output_type": "stream",
     "text": [
      "alembic==1.8.0\n",
      "anyio==3.6.1\n",
      "argon2-cffi==21.3.0\n",
      "argon2-cffi-bindings==21.2.0\n",
      "asttokens==2.0.5\n",
      "async-generator==1.10\n",
      "attrs==21.4.0\n",
      "Babel==2.10.1\n",
      "backcall==0.2.0\n",
      "beautifulsoup4==4.11.1\n",
      "bleach==5.0.0\n",
      "certifi==2019.11.28\n",
      "certipy==0.1.3\n",
      "cffi==1.15.0\n",
      "chardet==3.0.4\n",
      "colorama==0.4.4\n",
      "cryptography==37.0.2\n",
      "cycler==0.11.0\n",
      "dbus-python==1.2.16\n",
      "debugpy==1.6.0\n",
      "decorator==5.1.1\n",
      "defusedxml==0.7.1\n",
      "distro-info===0.23ubuntu1\n",
      "docstring-to-markdown==0.10\n",
      "entrypoints==0.4\n",
      "executing==0.8.3\n",
      "fastjsonschema==2.15.3\n",
      "fonttools==4.33.3\n",
      "gitdb==4.0.9\n",
      "GitPython==3.1.27\n",
      "greenlet==1.1.2\n",
      "idna==3.3\n",
      "importlib-metadata==4.8.2\n",
      "importlib-resources==5.7.1\n",
      "ipykernel==6.13.1\n",
      "ipympl==0.8.2\n",
      "ipython==8.4.0\n",
      "ipython-genutils==0.2.0\n",
      "ipywidgets==7.6.5\n",
      "jedi==0.18.0\n",
      "jedi-language-server==0.34.8\n",
      "Jinja2==3.1.2\n",
      "json5==0.9.8\n",
      "jsonschema==4.6.0\n",
      "jupyter-client==7.3.4\n",
      "jupyter-core==4.10.0\n",
      "jupyter-resource-usage==0.6.1\n",
      "jupyter-server==1.17.1\n",
      "jupyter-server-mathjax==0.2.5\n",
      "jupyter-telemetry==0.1.0\n",
      "jupyterhub==1.5.0\n",
      "jupyterlab==3.2.3\n",
      "jupyterlab-git==0.33.0\n",
      "jupyterlab-pygments==0.2.2\n",
      "jupyterlab-server==2.14.0\n",
      "jupyterlab-system-monitor==0.8.0\n",
      "jupyterlab-topbar==0.6.1\n",
      "jupyterlab-widgets==1.1.0\n",
      "kiwisolver==1.4.2\n",
      "Mako==1.2.0\n",
      "MarkupSafe==2.1.1\n",
      "matplotlib==3.5.2\n",
      "matplotlib-inline==0.1.3\n",
      "mistune==0.8.4\n",
      "nbclassic==0.3.7\n",
      "nbclient==0.6.4\n",
      "nbconvert==6.5.0\n",
      "nbdime==3.1.1\n",
      "nbformat==5.4.0\n",
      "nest-asyncio==1.5.5\n",
      "notebook==6.4.5\n",
      "notebook-shim==0.1.0\n",
      "numpy==1.22.4\n",
      "oauthlib==3.2.0\n",
      "packaging==21.3\n",
      "pamela==1.0.0\n",
      "pandocfilters==1.5.0\n",
      "parso==0.8.3\n",
      "pexpect==4.8.0\n",
      "pickleshare==0.7.5\n",
      "Pillow==9.1.1\n",
      "prometheus-client==0.14.1\n",
      "prompt-toolkit==3.0.29\n",
      "psutil==5.9.1\n",
      "ptyprocess==0.7.0\n",
      "pure-eval==0.2.2\n",
      "pycparser==2.21\n",
      "pycurl==7.44.1\n",
      "pydantic==1.8.2\n",
      "pygls==0.11.3\n",
      "Pygments==2.12.0\n",
      "PyGObject==3.36.0\n",
      "pyOpenSSL==22.0.0\n",
      "pyparsing==3.0.9\n",
      "pyrsistent==0.18.1\n",
      "python-apt==2.0.0+ubuntu0.20.4.7\n",
      "python-dateutil==2.8.2\n",
      "python-json-logger==2.0.2\n",
      "pytz==2022.1\n",
      "pyzmq==23.1.0\n",
      "requests==2.22.0\n",
      "requests-unixsocket==0.2.0\n",
      "ruamel.yaml==0.17.21\n",
      "ruamel.yaml.clib==0.2.6\n",
      "Send2Trash==1.8.0\n",
      "six==1.14.0\n",
      "smmap==5.0.0\n",
      "sniffio==1.2.0\n",
      "soupsieve==2.3.2.post1\n",
      "SQLAlchemy==1.4.37\n",
      "stack-data==0.2.0\n",
      "terminado==0.15.0\n",
      "tinycss2==1.1.1\n",
      "tornado==6.1\n",
      "traitlets==5.2.2.post1\n",
      "typeguard==2.13.3\n",
      "typing_extensions==4.2.0\n",
      "unattended-upgrades==0.1\n",
      "urllib3==1.25.8\n",
      "wcwidth==0.2.5\n",
      "webencodings==0.5.1\n",
      "websocket-client==1.3.2\n",
      "widgetsnbextension==3.5.2\n",
      "zipp==3.8.0\n",
      "Note: you may need to restart the kernel to use updated packages.\n"
     ]
    }
   ],
   "source": [
    "pip freeze"
   ]
  },
  {
   "cell_type": "code",
   "execution_count": 4,
   "id": "b4286194-20a8-4b3d-87a3-796b9a8cdfdd",
   "metadata": {},
   "outputs": [],
   "source": [
    "import matplotlib.pyplot as plt"
   ]
  },
  {
   "cell_type": "code",
   "execution_count": 10,
   "id": "c2b961d3-2938-4941-bfdc-d85207611f22",
   "metadata": {},
   "outputs": [],
   "source": [
    "x=[1,2,3]"
   ]
  },
  {
   "cell_type": "code",
   "execution_count": 21,
   "id": "2852da47-9948-4b7e-92e7-489bff04417f",
   "metadata": {},
   "outputs": [],
   "source": [
    "y=[10,20,30]"
   ]
  },
  {
   "cell_type": "code",
   "execution_count": 39,
   "id": "75ccaf67-b954-4454-94c5-8ad0739bc4e0",
   "metadata": {},
   "outputs": [
    {
     "data": {
      "image/png": "[encoded data removed]",
      "text/plain": [
       "<Figure size 432x288 with 1 Axes>"
      ]
     },
     "metadata": {
      "needs_background": "light"
     },
     "output_type": "display_data"
    }
   ],
   "source": [
    "plt.bar(x,y)\n",
    "plt.title(\"plot\")\n",
    "plt.xticks(x,x)\n",
    "plt.savefig(\"grafico.png\")"
   ]
  },
  {
   "cell_type": "code",
   "execution_count": null,
   "id": "1b818341-15ec-4b04-bb53-14d7a4e92f1d",
   "metadata": {},
   "outputs": [],
   "source": []
  }
 ],
 "metadata": {
  "kernelspec": {
   "display_name": "Python 3 (ipykernel)",
   "language": "python",
   "name": "python3"
  },
  "language_info": {
   "codemirror_mode": {
    "name": "ipython",
    "version": 3
   },
   "file_extension": ".py",
   "mimetype": "text/x-python",
   "name": "python",
   "nbconvert_exporter": "python",
   "pygments_lexer": "ipython3",
   "version": "3.8.10"
  }
 },
 "nbformat": 4,
 "nbformat_minor": 5
}
