{
 "cells": [
  {
   "cell_type": "code",
   "execution_count": null,
   "id": "8ab6ae23-8693-4f38-bc8f-24f85dc72e15",
   "metadata": {},
   "outputs": [],
   "source": [
    "## librerie installate ##"
   ]
  },
  {
   "cell_type": "code",
   "execution_count": 1,
   "id": "dfdca0b6-fb60-4ab0-aa99-d4e561822d13",
   "metadata": {},
   "outputs": [
    {
     "name": "stdout",
     "output_type": "stream",
     "text": [
      "alembic==1.8.0\n",
      "anyio==3.6.1\n",
      "argon2-cffi==21.3.0\n",
      "argon2-cffi-bindings==21.2.0\n",
      "asttokens==2.0.5\n",
      "async-generator==1.10\n",
      "attrs==21.4.0\n",
      "Babel==2.10.1\n",
      "backcall==0.2.0\n",
      "beautifulsoup4==4.11.1\n",
      "bleach==5.0.0\n",
      "certifi==2019.11.28\n",
      "certipy==0.1.3\n",
      "cffi==1.15.0\n",
      "chardet==3.0.4\n",
      "colorama==0.4.4\n",
      "cryptography==37.0.2\n",
      "cycler==0.11.0\n",
      "dbus-python==1.2.16\n",
      "debugpy==1.6.0\n",
      "decorator==5.1.1\n",
      "defusedxml==0.7.1\n",
      "distro-info===0.23ubuntu1\n",
      "docstring-to-markdown==0.10\n",
      "entrypoints==0.4\n",
      "executing==0.8.3\n",
      "fastjsonschema==2.15.3\n",
      "fonttools==4.33.3\n",
      "gitdb==4.0.9\n",
      "GitPython==3.1.27\n",
      "greenlet==1.1.2\n",
      "idna==3.3\n",
      "importlib-metadata==4.8.2\n",
      "importlib-resources==5.7.1\n",
      "ipykernel==6.13.1\n",
      "ipympl==0.8.2\n",
      "ipython==8.4.0\n",
      "ipython-genutils==0.2.0\n",
      "ipywidgets==7.6.5\n",
      "jedi==0.18.0\n",
      "jedi-language-server==0.34.8\n",
      "Jinja2==3.1.2\n",
      "json5==0.9.8\n",
      "jsonschema==4.6.0\n",
      "jupyter-client==7.3.4\n",
      "jupyter-core==4.10.0\n",
      "jupyter-resource-usage==0.6.1\n",
      "jupyter-server==1.17.1\n",
      "jupyter-server-mathjax==0.2.5\n",
      "jupyter-telemetry==0.1.0\n",
      "jupyterhub==1.5.0\n",
      "jupyterlab==3.2.3\n",
      "jupyterlab-git==0.33.0\n",
      "jupyterlab-pygments==0.2.2\n",
      "jupyterlab-server==2.14.0\n",
      "jupyterlab-system-monitor==0.8.0\n",
      "jupyterlab-topbar==0.6.1\n",
      "jupyterlab-widgets==1.1.0\n",
      "kiwisolver==1.4.2\n",
      "Mako==1.2.0\n",
      "MarkupSafe==2.1.1\n",
      "matplotlib==3.5.2\n",
      "matplotlib-inline==0.1.3\n",
      "mistune==0.8.4\n",
      "nbclassic==0.3.7\n",
      "nbclient==0.6.4\n",
      "nbconvert==6.5.0\n",
      "nbdime==3.1.1\n",
      "nbformat==5.4.0\n",
      "nest-asyncio==1.5.5\n",
      "notebook==6.4.5\n",
      "notebook-shim==0.1.0\n",
      "numpy==1.22.4\n",
      "oauthlib==3.2.0\n",
      "packaging==21.3\n",
      "pamela==1.0.0\n",
      "pandocfilters==1.5.0\n",
      "parso==0.8.3\n",
      "pexpect==4.8.0\n",
      "pickleshare==0.7.5\n",
      "Pillow==9.1.1\n",
      "prometheus-client==0.14.1\n",
      "prompt-toolkit==3.0.29\n",
      "psutil==5.9.1\n",
      "ptyprocess==0.7.0\n",
      "pure-eval==0.2.2\n",
      "pycparser==2.21\n",
      "pycurl==7.44.1\n",
      "pydantic==1.8.2\n",
      "pygls==0.11.3\n",
      "Pygments==2.12.0\n",
      "PyGObject==3.36.0\n",
      "pyOpenSSL==22.0.0\n",
      "pyparsing==3.0.9\n",
      "pyrsistent==0.18.1\n",
      "python-apt==2.0.0+ubuntu0.20.4.7\n",
      "python-dateutil==2.8.2\n",
      "python-json-logger==2.0.2\n",
      "pytz==2022.1\n",
      "pyzmq==23.1.0\n",
      "requests==2.22.0\n",
      "requests-unixsocket==0.2.0\n",
      "ruamel.yaml==0.17.21\n",
      "ruamel.yaml.clib==0.2.6\n",
      "Send2Trash==1.8.0\n",
      "six==1.14.0\n",
      "smmap==5.0.0\n",
      "sniffio==1.2.0\n",
      "soupsieve==2.3.2.post1\n",
      "SQLAlchemy==1.4.37\n",
      "stack-data==0.2.0\n",
      "terminado==0.15.0\n",
      "tinycss2==1.1.1\n",
      "tornado==6.1\n",
      "traitlets==5.2.2.post1\n",
      "typeguard==2.13.3\n",
      "typing_extensions==4.2.0\n",
      "unattended-upgrades==0.1\n",
      "urllib3==1.25.8\n",
      "wcwidth==0.2.5\n",
      "webencodings==0.5.1\n",
      "websocket-client==1.3.2\n",
      "widgetsnbextension==3.5.2\n",
      "zipp==3.8.0\n",
      "Note: you may need to restart the kernel to use updated packages.\n"
     ]
    }
   ],
   "source": [
    "!pip freeze"
   ]
  },
  {
   "cell_type": "raw",
   "id": "9c00d65c-2567-41c4-9366-fc67a3ff6655",
   "metadata": {},
   "source": [
    "### aggiorniamo pip3"
   ]
  },
  {
   "cell_type": "code",
   "execution_count": 4,
   "id": "7a6f4359-086d-485a-8cf6-9704beaa884d",
   "metadata": {},
   "outputs": [
    {
     "name": "stdout",
     "output_type": "stream",
     "text": [
      "Requirement already satisfied: pip in /usr/local/lib/python3.8/dist-packages (22.1.2)\n",
      "Collecting pip\n",
      "  Downloading pip-22.2.2-py3-none-any.whl (2.0 MB)\n",
      "\u001b[2K     \u001b[90m━━━━━━━━━━━━━━━━━━━━━━━━━━━━━━━━━━━━━━━━\u001b[0m \u001b[32m2.0/2.0 MB\u001b[0m \u001b[31m7.3 MB/s\u001b[0m eta \u001b[36m0:00:00\u001b[0m:00:01\u001b[0m00:01\u001b[0m\n",
      "\u001b[?25hInstalling collected packages: pip\n",
      "  Attempting uninstall: pip\n",
      "    Found existing installation: pip 22.1.2\n",
      "    Uninstalling pip-22.1.2:\n",
      "      Successfully uninstalled pip-22.1.2\n",
      "Successfully installed pip-22.2.2\n",
      "\u001b[33mWARNING: Running pip as the 'root' user can result in broken permissions and conflicting behaviour with the system package manager. It is recommended to use a virtual environment instead: https://pip.pypa.io/warnings/venv\u001b[0m\u001b[33m\n",
      "\u001b[0m"
     ]
    }
   ],
   "source": [
    "!pip3 install --upgrade pip"
   ]
  },
  {
   "cell_type": "raw",
   "id": "d317ef6c-eb63-4b09-94ce-77b3192de3b6",
   "metadata": {},
   "source": [
    "### numpy: permette di lavorare con vettori e matrici. Libreria matematica per ML"
   ]
  },
  {
   "cell_type": "code",
   "execution_count": 5,
   "id": "341a33f2-6192-4d0f-b676-26bff73372ef",
   "metadata": {},
   "outputs": [],
   "source": [
    "import numpy"
   ]
  },
  {
   "cell_type": "raw",
   "id": "340d2d5e-cc20-4b49-af40-f27375c6d15b",
   "metadata": {},
   "source": [
    "### pandas: libreria per data analysis. \n",
    "### Ha funzioni per l’importazione e la scrittura dei dataset, per data cleaning e pre-processing."
   ]
  },
  {
   "cell_type": "code",
   "execution_count": 6,
   "id": "e055c75a-2f1f-4763-9330-510abf8875c7",
   "metadata": {},
   "outputs": [
    {
     "ename": "ModuleNotFoundError",
     "evalue": "No module named 'pandas'",
     "output_type": "error",
     "traceback": [
      "\u001b[0;31m---------------------------------------------------------------------------\u001b[0m",
      "\u001b[0;31mModuleNotFoundError\u001b[0m                       Traceback (most recent call last)",
      "Input \u001b[0;32mIn [6]\u001b[0m, in \u001b[0;36m<cell line: 1>\u001b[0;34m()\u001b[0m\n\u001b[0;32m----> 1\u001b[0m \u001b[38;5;28;01mimport\u001b[39;00m \u001b[38;5;21;01mpandas\u001b[39;00m\n",
      "\u001b[0;31mModuleNotFoundError\u001b[0m: No module named 'pandas'"
     ]
    }
   ],
   "source": [
    "import pandas"
   ]
  },
  {
   "cell_type": "code",
   "execution_count": 8,
   "id": "06a438e0-6365-412f-876f-893d58e5d8e3",
   "metadata": {},
   "outputs": [
    {
     "name": "stdout",
     "output_type": "stream",
     "text": [
      "Collecting pandas\n",
      "  Downloading pandas-1.4.4-cp38-cp38-manylinux_2_17_x86_64.manylinux2014_x86_64.whl (11.7 MB)\n",
      "\u001b[2K     \u001b[90m━━━━━━━━━━━━━━━━━━━━━━━━━━━━━━━━━━━━━━━━\u001b[0m \u001b[32m11.7/11.7 MB\u001b[0m \u001b[31m19.7 MB/s\u001b[0m eta \u001b[36m0:00:00\u001b[0m00:01\u001b[0m0:01\u001b[0m\n",
      "\u001b[?25hRequirement already satisfied: numpy>=1.18.5 in /usr/local/lib/python3.8/dist-packages (from pandas) (1.22.4)\n",
      "Requirement already satisfied: pytz>=2020.1 in /usr/local/lib/python3.8/dist-packages (from pandas) (2022.1)\n",
      "Requirement already satisfied: python-dateutil>=2.8.1 in /usr/local/lib/python3.8/dist-packages (from pandas) (2.8.2)\n",
      "Requirement already satisfied: six>=1.5 in /usr/lib/python3/dist-packages (from python-dateutil>=2.8.1->pandas) (1.14.0)\n",
      "Installing collected packages: pandas\n",
      "Successfully installed pandas-1.4.4\n",
      "\u001b[33mWARNING: Running pip as the 'root' user can result in broken permissions and conflicting behaviour with the system package manager. It is recommended to use a virtual environment instead: https://pip.pypa.io/warnings/venv\u001b[0m\u001b[33m\n",
      "\u001b[0m"
     ]
    }
   ],
   "source": [
    "!pip3 install pandas"
   ]
  },
  {
   "cell_type": "raw",
   "id": "9ad2be62-b6d0-4d52-88d6-c143065647e7",
   "metadata": {},
   "source": [
    "###  Matplotlib: libreria per visualizzazione dati"
   ]
  },
  {
   "cell_type": "code",
   "execution_count": 9,
   "id": "9251815b-6059-4ae8-a127-1d390adbd64a",
   "metadata": {},
   "outputs": [],
   "source": [
    "import matplotlib"
   ]
  },
  {
   "cell_type": "raw",
   "id": "3895fa97-efb1-4e80-9f60-2eea28749922",
   "metadata": {},
   "source": [
    "### Scikit-learn: libreria di ML per per la classificazione, la regressione, il clustering, \n",
    "### e degli importanti ulities, che permettono operazioni di pre-processing, di model \n",
    "### optimization e di model evaluation."
   ]
  },
  {
   "cell_type": "code",
   "execution_count": 11,
   "id": "532efda8-2226-4c48-a956-c90b51d1ffff",
   "metadata": {},
   "outputs": [
    {
     "name": "stdout",
     "output_type": "stream",
     "text": [
      "Collecting scikit-learn\n",
      "  Downloading scikit_learn-1.1.2-cp38-cp38-manylinux_2_17_x86_64.manylinux2014_x86_64.whl (31.2 MB)\n",
      "\u001b[2K     \u001b[90m━━━━━━━━━━━━━━━━━━━━━━━━━━━━━━━━━━━━━━━━\u001b[0m \u001b[32m31.2/31.2 MB\u001b[0m \u001b[31m22.5 MB/s\u001b[0m eta \u001b[36m0:00:00\u001b[0m00:01\u001b[0m00:01\u001b[0m\n",
      "\u001b[?25hRequirement already satisfied: numpy>=1.17.3 in /usr/local/lib/python3.8/dist-packages (from scikit-learn) (1.22.4)\n",
      "Collecting threadpoolctl>=2.0.0\n",
      "  Downloading threadpoolctl-3.1.0-py3-none-any.whl (14 kB)\n",
      "Collecting scipy>=1.3.2\n",
      "  Downloading scipy-1.9.1-cp38-cp38-manylinux_2_17_x86_64.manylinux2014_x86_64.whl (43.4 MB)\n",
      "\u001b[2K     \u001b[90m━━━━━━━━━━━━━━━━━━━━━━━━━━━━━━━━━━━━━━━━\u001b[0m \u001b[32m43.4/43.4 MB\u001b[0m \u001b[31m14.4 MB/s\u001b[0m eta \u001b[36m0:00:00\u001b[0m00:01\u001b[0m00:01\u001b[0m\n",
      "\u001b[?25hCollecting joblib>=1.0.0\n",
      "  Downloading joblib-1.1.0-py2.py3-none-any.whl (306 kB)\n",
      "\u001b[2K     \u001b[90m━━━━━━━━━━━━━━━━━━━━━━━━━━━━━━━━━━━━━━━\u001b[0m \u001b[32m307.0/307.0 kB\u001b[0m \u001b[31m4.2 MB/s\u001b[0m eta \u001b[36m0:00:00\u001b[0ma \u001b[36m0:00:01\u001b[0m\n",
      "\u001b[?25hInstalling collected packages: threadpoolctl, scipy, joblib, scikit-learn\n",
      "Successfully installed joblib-1.1.0 scikit-learn-1.1.2 scipy-1.9.1 threadpoolctl-3.1.0\n",
      "\u001b[33mWARNING: Running pip as the 'root' user can result in broken permissions and conflicting behaviour with the system package manager. It is recommended to use a virtual environment instead: https://pip.pypa.io/warnings/venv\u001b[0m\u001b[33m\n",
      "\u001b[0m"
     ]
    }
   ],
   "source": [
    "!pip3 install scikit-learn"
   ]
  },
  {
   "cell_type": "raw",
   "id": "9ba2ccf1-8572-47b6-a751-deeaee424da1",
   "metadata": {},
   "source": [
    "### keras: per implementazione rete neurali"
   ]
  },
  {
   "cell_type": "code",
   "execution_count": 13,
   "id": "c5b1dd91-09a5-45b3-8bf7-e09db2a01d04",
   "metadata": {},
   "outputs": [
    {
     "ename": "ModuleNotFoundError",
     "evalue": "No module named 'keras'",
     "output_type": "error",
     "traceback": [
      "\u001b[0;31m---------------------------------------------------------------------------\u001b[0m",
      "\u001b[0;31mModuleNotFoundError\u001b[0m                       Traceback (most recent call last)",
      "Input \u001b[0;32mIn [13]\u001b[0m, in \u001b[0;36m<cell line: 1>\u001b[0;34m()\u001b[0m\n\u001b[0;32m----> 1\u001b[0m \u001b[38;5;28;01mimport\u001b[39;00m \u001b[38;5;21;01mkeras\u001b[39;00m\n",
      "\u001b[0;31mModuleNotFoundError\u001b[0m: No module named 'keras'"
     ]
    }
   ],
   "source": [
    "import keras"
   ]
  },
  {
   "cell_type": "code",
   "execution_count": 14,
   "id": "0046c307-a280-4901-8b4f-5978a4d97408",
   "metadata": {},
   "outputs": [
    {
     "name": "stdout",
     "output_type": "stream",
     "text": [
      "Collecting keras\n",
      "  Downloading keras-2.10.0-py2.py3-none-any.whl (1.7 MB)\n",
      "\u001b[2K     \u001b[90m━━━━━━━━━━━━━━━━━━━━━━━━━━━━━━━━━━━━━━━━\u001b[0m \u001b[32m1.7/1.7 MB\u001b[0m \u001b[31m6.5 MB/s\u001b[0m eta \u001b[36m0:00:00\u001b[0m:00:01\u001b[0m00:01\u001b[0m\n",
      "\u001b[?25hInstalling collected packages: keras\n",
      "Successfully installed keras-2.10.0\n",
      "\u001b[33mWARNING: Running pip as the 'root' user can result in broken permissions and conflicting behaviour with the system package manager. It is recommended to use a virtual environment instead: https://pip.pypa.io/warnings/venv\u001b[0m\u001b[33m\n",
      "\u001b[0m"
     ]
    }
   ],
   "source": [
    "!pip3 install keras"
   ]
  },
  {
   "cell_type": "code",
   "execution_count": null,
   "id": "bf9ae778-fecf-4567-be41-74df8190fe5d",
   "metadata": {},
   "outputs": [],
   "source": []
  }
 ],
 "metadata": {
  "kernelspec": {
   "display_name": "Python 3 (ipykernel)",
   "language": "python",
   "name": "python3"
  },
  "language_info": {
   "codemirror_mode": {
    "name": "ipython",
    "version": 3
   },
   "file_extension": ".py",
   "mimetype": "text/x-python",
   "name": "python",
   "nbconvert_exporter": "python",
   "pygments_lexer": "ipython3",
   "version": "3.8.10"
  }
 },
 "nbformat": 4,
 "nbformat_minor": 5
}
