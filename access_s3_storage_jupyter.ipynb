{
 "cells": [
  {
   "cell_type": "code",
   "execution_count": null,
   "id": "d9fcfa18-691d-42d0-bbe8-aff9fde656c3",
   "metadata": {},
   "outputs": [],
   "source": [
    "### nel terminale vanno fatti i seguenti passi per far partire l'oidc-agent e configurare il profilo che oidc-agent puo' \n",
    "### utilizzare per ottenere i token da iam "
   ]
  },
  {
   "cell_type": "markdown",
   "id": "8ce83ba2-1abc-408f-93f2-543e5533387d",
   "metadata": {},
   "source": [
    "## Comandi da terminale ##"
   ]
  },
  {
   "cell_type": "raw",
   "id": "eb3a6954-a476-4ced-8d21-dfe281d23d5d",
   "metadata": {},
   "source": [
    "### uso la shell bash per avere l'history e il completamento dei comandi\n",
    "> bash\n",
    "### faccio partire l'agent che e' gia' installato nel server notebook\n",
    "> eval `oidc-agent`\n",
    "### controllo se c'e' un profilo attivo\n",
    "> oidc-gen -l\n",
    "### configuro un profilo demo (nome a scelta)\n",
    "> oidc-gen demo\n",
    "### rispondiamo alle domande che ritorna il comando ovvero come issuer va indicato https://iam.cloud.infn.it/ e come scope mettere max\n",
    "### autorizzare il client andando al link https://iam.cloud.infn.it/device ed inserire il codice ritornato dal comando.\n",
    "### precedere mettendo password per criptare configurazioni\n",
    "### installare boto3-sts\n",
    "> pip install -U git+https://git@github.com/dodas-ts/boto3sts"
   ]
  },
  {
   "cell_type": "markdown",
   "id": "398e88a5-f6b1-440a-9d61-bc7ef74ee882",
   "metadata": {},
   "source": [
    "## Fine comandi a terminale ##"
   ]
  },
  {
   "cell_type": "markdown",
   "id": "f47b1fd1-619b-4be2-8dd0-bfe844811a6d",
   "metadata": {},
   "source": [
    "## Comandi da eseguire con il notebook dalla directory /jupyter-workspace ##"
   ]
  },
  {
   "cell_type": "code",
   "execution_count": null,
   "id": "48437cbe",
   "metadata": {},
   "outputs": [],
   "source": [
    "from boto3sts import credentials as creds\n",
    "import boto3\n",
    "import os"
   ]
  },
  {
   "cell_type": "code",
   "execution_count": null,
   "id": "9c15bd19",
   "metadata": {},
   "outputs": [],
   "source": [
    "# oidc agent profile already configured in this server \n",
    "!oidc-gen -l"
   ]
  },
  {
   "cell_type": "code",
   "execution_count": null,
   "id": "5bcb74a7",
   "metadata": {
    "scrolled": true
   },
   "outputs": [],
   "source": [
    "# oidc-agent environment variables\n",
    "!oidc-keychain"
   ]
  },
  {
   "cell_type": "code",
   "execution_count": null,
   "id": "e6f2a606",
   "metadata": {},
   "outputs": [],
   "source": [
    "os.environ[\"OIDC_SOCK\"] = \"/tmp/oidc-jhZrDy/oidc-agent.332\""
   ]
  },
  {
   "cell_type": "code",
   "execution_count": null,
   "id": "2a14f961",
   "metadata": {},
   "outputs": [],
   "source": [
    "# Get your refreshble credentials session with the oidc-agent profile named e.g.: dodas_oidc-agen-profile\n",
    "aws_session = creds.assumed_session(\"fede\")\n",
    "\n",
    "# Use the generated session for all the data operations on an s3 bucket\n",
    "s3 = aws_session.client('s3', endpoint_url=\"https://minio.cloud.infn.it/\", config=boto3.session.Config(signature_version='s3v4'),\n",
    "                                                verify=True)"
   ]
  },
  {
   "cell_type": "code",
   "execution_count": null,
   "id": "b2531743",
   "metadata": {},
   "outputs": [],
   "source": [
    "# Show files in a bucket\n",
    "\n",
    "for key in s3.list_objects(Bucket='fanzago')['Contents']:\n",
    "        print(key['Key'])"
   ]
  },
  {
   "cell_type": "code",
   "execution_count": null,
   "id": "5d4e6771",
   "metadata": {},
   "outputs": [],
   "source": [
    "# Attributes of s3 object\n",
    "# print(dir(s3))"
   ]
  },
  {
   "cell_type": "code",
   "execution_count": null,
   "id": "77a3530f",
   "metadata": {},
   "outputs": [],
   "source": [
    "# The current directory\n",
    "os.getcwd()"
   ]
  },
  {
   "cell_type": "code",
   "execution_count": null,
   "id": "12408923",
   "metadata": {},
   "outputs": [],
   "source": [
    "# Download a file from Minio to the current workarea specifying your bucket name \n",
    "#s3.download_file('CHANGE_BUCKET','REMOTE_PATH_FILE', 'LOCAL_PATH_FILE')\n",
    "s3.download_file('fanzago','heatmap.png', '/jupyter-workspace/heatmap.png')"
   ]
  },
  {
   "cell_type": "code",
   "execution_count": null,
   "id": "e970a5cc",
   "metadata": {},
   "outputs": [],
   "source": [
    "# Content of the workarea\n",
    "for entry in os.scandir():\n",
    "    print(entry)"
   ]
  },
  {
   "cell_type": "code",
   "execution_count": null,
   "id": "50a049d5",
   "metadata": {},
   "outputs": [],
   "source": []
  }
 ],
 "metadata": {
  "kernelspec": {
   "display_name": "Python 3 (ipykernel)",
   "language": "python",
   "name": "python3"
  },
  "language_info": {
   "codemirror_mode": {
    "name": "ipython",
    "version": 3
   },
   "file_extension": ".py",
   "mimetype": "text/x-python",
   "name": "python",
   "nbconvert_exporter": "python",
   "pygments_lexer": "ipython3",
   "version": "3.8.10"
  }
 },
 "nbformat": 4,
 "nbformat_minor": 5
}
